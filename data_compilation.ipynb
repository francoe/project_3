{
 "cells": [
  {
   "cell_type": "code",
   "execution_count": 2,
   "metadata": {},
   "outputs": [],
   "source": [
    "import pandas as pd"
   ]
  },
  {
   "cell_type": "markdown",
   "metadata": {},
   "source": [
    "Unemployment Data by county (https://www.bls.gov/lau/#tables)"
   ]
  },
  {
   "cell_type": "code",
   "execution_count": 2,
   "metadata": {},
   "outputs": [],
   "source": [
    "list_ = []\n",
    "for x in range(2010,2019):\n",
    "    df = pd.read_fwf(f'https://www.bls.gov/lau/laucnty{str(x)[-2:]}.txt', skiprows = 5)\n",
    "    list_.append(df)\n",
    "all_data = pd.concat(list_)\n",
    "all_data = all_data.dropna()\n",
    "all_data = all_data.rename(columns = {\n",
    "    'Unnamed: 3' : 'county_name',\n",
    "    'Unnamed: 4' : 'year',\n",
    "    'Unnamed: 8' : 'unemployment_rate'\n",
    "})"
   ]
  },
  {
   "cell_type": "code",
   "execution_count": 3,
   "metadata": {},
   "outputs": [],
   "source": [
    "all_data.year = all_data.year.astype(int)\n",
    "unemployment_data = all_data[['year','county_name','unemployment_rate']]\n",
    "# unemployment_data[['county','state']] = unemployment_data.county_name.str.split(',', expand = True)\n",
    "# unemployment_data = unemployment_data[['year', 'county', 'state', 'unemployment_rate']]"
   ]
  },
  {
   "cell_type": "code",
   "execution_count": 5,
   "metadata": {},
   "outputs": [],
   "source": [
    "zip_county_key = pd.read_csv('zip_county_key.csv')\n",
    "zip_county_key = zip_county_key.rename(columns = {\n",
    "    'COUNTYNAME' : 'county',\n",
    "    'STATE' : 'state'\n",
    "})\n",
    "zip_county_key['county_name'] = zip_county_key['county'] + \", \" + zip_county_key['state']"
   ]
  },
  {
   "cell_type": "code",
   "execution_count": 6,
   "metadata": {},
   "outputs": [],
   "source": [
    "unemployment_data = pd.merge(unemployment_data,\n",
    "             zip_county_key,\n",
    "             how = 'left',\n",
    "             on = ['county_name'])\n",
    "unemployment_data = unemployment_data[['year', 'ZIP', 'unemployment_rate']]"
   ]
  },
  {
   "cell_type": "code",
   "execution_count": 7,
   "metadata": {},
   "outputs": [],
   "source": [
    "unemployment_data = unemployment_data.rename(columns = {'year': 'Year', 'ZIP_x' : 'ZIP'})"
   ]
  },
  {
   "cell_type": "code",
   "execution_count": 9,
   "metadata": {},
   "outputs": [],
   "source": [
    "unemployment_data.to_csv('unemployment_data.csv')"
   ]
  },
  {
   "cell_type": "markdown",
   "metadata": {},
   "source": [
    "Income Data by County (https://www.irs.gov/statistics/soi-tax-stats-individual-income-tax-statistics-zip-code-data-soi)"
   ]
  },
  {
   "cell_type": "code",
   "execution_count": 10,
   "metadata": {},
   "outputs": [],
   "source": [
    "# df = pd.read_csv('https://www.irs.gov/pub/irs-soi/16zpallagi.csv')[['zipcode', 'agi_stub', 'N1']]"
   ]
  },
  {
   "cell_type": "code",
   "execution_count": null,
   "metadata": {},
   "outputs": [],
   "source": [
    "list_ = []\n",
    "for x in range(2014,2017):\n",
    "    df = pd.read_csv(f'https://www.irs.gov/pub/irs-soi/{str(x)[-2:]}zpallagi.csv')[['zipcode', 'agi_stub', 'N1']]\n",
    "    list_.append(df)\n",
    "    df['year'] = x\n",
    "income_master = pd.concat(list_)"
   ]
  },
  {
   "cell_type": "code",
   "execution_count": null,
   "metadata": {},
   "outputs": [],
   "source": [
    "income_master['income'] = 0\n",
    "income_master['income_share'] = 0"
   ]
  },
  {
   "cell_type": "code",
   "execution_count": null,
   "metadata": {},
   "outputs": [],
   "source": [
    "for index, row in income_master.iterrows():\n",
    "    if row['agi_stub'] == 1:\n",
    "        row['income'] = 12500\n",
    "    elif row['agi_stub'] == 2:\n",
    "        row['income'] = 37500\n",
    "    elif row['agi_stub'] == 3:\n",
    "        row['income'] = 62500\n",
    "    elif row['agi_stub'] == 4:\n",
    "        row['income'] = 87500\n",
    "    elif row['agi_stub'] == 5:\n",
    "        row['income'] = 150000\n",
    "    elif row['agi_stub'] == 6:\n",
    "        row['income'] = 200000"
   ]
  },
  {
   "cell_type": "code",
   "execution_count": null,
   "metadata": {},
   "outputs": [],
   "source": [
    "def wavg(val_col_name, wt_col_name):\n",
    "    def inner(group):\n",
    "        return (group[val_col_name] * group[wt_col_name]).sum() / group[wt_col_name].sum()\n",
    "    inner.__name__ = 'wtd_avg'\n",
    "    return inner\n",
    "\n",
    "income_master.['avg_income'] = pd.DataFrame(income_master.groupby('zipcode').apply(wavg('income', 'N1')))"
   ]
  },
  {
   "cell_type": "code",
   "execution_count": null,
   "metadata": {},
   "outputs": [],
   "source": [
    "income_master"
   ]
  },
  {
   "cell_type": "code",
   "execution_count": null,
   "metadata": {},
   "outputs": [],
   "source": []
  }
 ],
 "metadata": {
  "kernelspec": {
   "display_name": "base",
   "language": "python",
   "name": "base"
  },
  "language_info": {
   "codemirror_mode": {
    "name": "ipython",
    "version": 3
   },
   "file_extension": ".py",
   "mimetype": "text/x-python",
   "name": "python",
   "nbconvert_exporter": "python",
   "pygments_lexer": "ipython3",
   "version": "3.7.3"
  }
 },
 "nbformat": 4,
 "nbformat_minor": 2
}
