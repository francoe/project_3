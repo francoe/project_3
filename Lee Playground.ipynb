{
 "cells": [
  {
   "cell_type": "code",
   "execution_count": null,
   "metadata": {},
   "outputs": [],
   "source": [
    "%matplotlib inline\n",
    "import matplotlib.pyplot as plt\n",
    "import numpy as np\n",
    "import sklearn\n",
    "import sklearn.datasets\n",
    "from numpy.random import seed\n",
    "seed(1)\n",
    "import pandas as pd\n"
   ]
  },
  {
   "cell_type": "code",
   "execution_count": null,
   "metadata": {},
   "outputs": [],
   "source": [
    "#import the csv\n",
    "df = pd.read_csv(\"complete_data_test1.csv\")\n",
    "# df1 = pd.read_excel('Zillow Data.xlsx')\n",
    "# df = df.drop(columns=['Median Price', 'Date'])\n",
    "\n",
    "# df['Sales'] = [float(x.replace(',', '')) for x in df['Sales']]\n",
    "# df['Dollar Volume'] = [float(x.replace(',', '')) for x in df['Dollar Volume']]\n",
    "# df['Average Price'] = [float(x.replace(',', '')) for x in df['Average Price']]\n",
    "# df['Total Listings'] = [float(x.replace(',', '')) for x in df['Total Listings']]\n",
    "\n",
    "\n",
    "\n",
    "# print(X.shape, y.shape)\n",
    "df1 = df[['SizeRank', 'MedianListPrice', 'MORTGAGE30US', 'unemployment_rate', 'Avg Income']]\n",
    "df1\n",
    "\n",
    "X = df1.drop(\"MedianListPrice\", axis=1)\n",
    "y = df1[\"MedianListPrice\"]"
   ]
  },
  {
   "cell_type": "code",
   "execution_count": null,
   "metadata": {},
   "outputs": [],
   "source": [
    "# Use train_test_split to create training and testing data\n",
    "from sklearn.model_selection import train_test_split\n",
    "\n",
    "X_train, X_test, y_train, y_test = train_test_split(X, y, random_state=1)"
   ]
  },
  {
   "cell_type": "code",
   "execution_count": null,
   "metadata": {},
   "outputs": [],
   "source": [
    "# X_train.shape\n",
    "y_train.shape"
   ]
  },
  {
   "cell_type": "code",
   "execution_count": null,
   "metadata": {},
   "outputs": [],
   "source": [
    "# first, create a normal neural network\n",
    "from keras.models import Sequential\n",
    "from keras.layers import Dense\n",
    "\n",
    "#optimize the shit out of it\n",
    "activation_types = ['relu', 'tanh', 'sigmoid']\n",
    "\n",
    "for i in range(30):\n",
    "    first_row = (i + 1) * 10\n",
    "    second_row = (i + 1) * 5\n",
    "    third_row = (i + 1) * 2\n",
    "    fourth_row = (i + 1)\n",
    "    for j in range(3):\n",
    "        model = Sequential()\n",
    "        model.add(Dense(units=first_row, activation='relu', input_dim=4))\n",
    "        model.add(Dense(units=second_row, activation=f'{activation_types[j]}'))\n",
    "        model.add(Dense(units=third_row, activation='relu'))\n",
    "        model.add(Dense(units=fourth_row, activation=f'{activation_types[j]}'))\n",
    "        model.add(Dense(units=1, activation='relu'))\n",
    "        # Compile the model\n",
    "        model.compile(optimizer='sgd',\n",
    "              loss='MSE',\n",
    "              metrics=['mae'])\n",
    "        # Fit the model to the training data\n",
    "        model.fit(\n",
    "            X_train,\n",
    "            y_train,\n",
    "            epochs=100,\n",
    "            shuffle=True,\n",
    "            verbose=0\n",
    "        )\n",
    "        model_loss, model_accuracy = model.evaluate(\n",
    "        X_train, y_train, verbose=0)\n",
    "        print('-----------------------------------------------------------------')\n",
    "        print(f\"Normal Neural Network - Loss: {model_loss}, Accuracy: {model_accuracy}\")\n",
    "        print(f\"This was iternation {i} sub level {j}\")\n",
    "        print('-----------------------------------------------------------------')"
   ]
  },
  {
   "cell_type": "code",
   "execution_count": null,
   "metadata": {},
   "outputs": [],
   "source": [
    "y_train"
   ]
  },
  {
   "cell_type": "code",
   "execution_count": null,
   "metadata": {},
   "outputs": [],
   "source": [
    "from keras.models import Sequential\n",
    "from keras.layers import Dense\n",
    "\n",
    "\n",
    "model = Sequential()\n",
    "model.add(Dense(units=1000, activation='relu', input_dim=4))\n",
    "# Compile the model\n",
    "model.compile(optimizer='sgd',\n",
    "      loss='MSE',\n",
    "      metrics=['mae'])\n",
    "# Fit the model to the training data\n",
    "model.fit(\n",
    "    X_train,\n",
    "    y_train,\n",
    "    epochs=100,\n",
    "    shuffle=True,\n",
    "    verbose=2\n",
    ")\n",
    "model_loss, model_accuracy = model.evaluate(\n",
    "X_train, y_train, verbose=0)"
   ]
  },
  {
   "cell_type": "code",
   "execution_count": null,
   "metadata": {},
   "outputs": [],
   "source": [
    "from sklearn.linear_model import Lasso, LinearRegression\n",
    "model = Lasso(alpha=100)\n",
    "\n",
    "# Fitting our model with all of our features in X\n",
    "model.fit(X_train, y_train)\n",
    "\n",
    "score = model.score(X_test, y_test)\n",
    "print(f\"R2 Score: {score}\")\n",
    "\n",
    "model.coef_"
   ]
  },
  {
   "cell_type": "code",
   "execution_count": null,
   "metadata": {},
   "outputs": [],
   "source": [
    "y = model.predict(X_train)"
   ]
  },
  {
   "cell_type": "code",
   "execution_count": null,
   "metadata": {},
   "outputs": [],
   "source": [
    "X_train['Prediction'] = y\n",
    "X_train['Actual'] = y_train\n",
    "X_train"
   ]
  },
  {
   "cell_type": "code",
   "execution_count": null,
   "metadata": {},
   "outputs": [],
   "source": []
  }
 ],
 "metadata": {
  "kernelspec": {
   "display_name": "base",
   "language": "python",
   "name": "base"
  },
  "language_info": {
   "codemirror_mode": {
    "name": "ipython",
    "version": 3
   },
   "file_extension": ".py",
   "mimetype": "text/x-python",
   "name": "python",
   "nbconvert_exporter": "python",
   "pygments_lexer": "ipython3",
   "version": "3.7.3"
  }
 },
 "nbformat": 4,
 "nbformat_minor": 2
}
