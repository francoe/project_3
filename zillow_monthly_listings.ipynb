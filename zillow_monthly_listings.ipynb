{
 "cells": [
  {
   "cell_type": "code",
   "execution_count": 1,
   "metadata": {},
   "outputs": [],
   "source": [
    "%matplotlib inline\n",
    "\n",
    "# import dependencies\n",
    "import pandas as pd\n",
    "import numpy as np\n",
    "import matplotlib.pyplot as plt\n",
    "import os\n",
    "import datetime \n",
    "import seaborn as sns"
   ]
  },
  {
   "cell_type": "code",
   "execution_count": 4,
   "metadata": {},
   "outputs": [],
   "source": [
    "# setup file path\n",
    "zillow =\"C:/Users/maque/Dropbox/Rice Data analytics classes/RICEHOU201811DATA2/Project 3/MonthlyListings_AllHomes.csv\""
   ]
  },
  {
   "cell_type": "code",
   "execution_count": 19,
   "metadata": {},
   "outputs": [
    {
     "data": {
      "text/html": [
       "<div>\n",
       "<style scoped>\n",
       "    .dataframe tbody tr th:only-of-type {\n",
       "        vertical-align: middle;\n",
       "    }\n",
       "\n",
       "    .dataframe tbody tr th {\n",
       "        vertical-align: top;\n",
       "    }\n",
       "\n",
       "    .dataframe thead th {\n",
       "        text-align: right;\n",
       "    }\n",
       "</style>\n",
       "<table border=\"1\" class=\"dataframe\">\n",
       "  <thead>\n",
       "    <tr style=\"text-align: right;\">\n",
       "      <th></th>\n",
       "      <th>Date</th>\n",
       "      <th>RegionID</th>\n",
       "      <th>SizeRank</th>\n",
       "      <th>RegionName</th>\n",
       "      <th>RegionType</th>\n",
       "      <th>StateName</th>\n",
       "      <th>Monthly Listings</th>\n",
       "    </tr>\n",
       "  </thead>\n",
       "  <tbody>\n",
       "    <tr>\n",
       "      <th>0</th>\n",
       "      <td>1/31/2013</td>\n",
       "      <td>58196</td>\n",
       "      <td>4429</td>\n",
       "      <td>1001</td>\n",
       "      <td>Zip</td>\n",
       "      <td>MA</td>\n",
       "      <td>86.0</td>\n",
       "    </tr>\n",
       "    <tr>\n",
       "      <th>1</th>\n",
       "      <td>1/31/2013</td>\n",
       "      <td>58197</td>\n",
       "      <td>3190</td>\n",
       "      <td>1002</td>\n",
       "      <td>Zip</td>\n",
       "      <td>MA</td>\n",
       "      <td>85.0</td>\n",
       "    </tr>\n",
       "    <tr>\n",
       "      <th>2</th>\n",
       "      <td>1/31/2013</td>\n",
       "      <td>58200</td>\n",
       "      <td>7512</td>\n",
       "      <td>1005</td>\n",
       "      <td>Zip</td>\n",
       "      <td>MA</td>\n",
       "      <td>43.0</td>\n",
       "    </tr>\n",
       "    <tr>\n",
       "      <th>3</th>\n",
       "      <td>1/31/2013</td>\n",
       "      <td>58201</td>\n",
       "      <td>5044</td>\n",
       "      <td>1007</td>\n",
       "      <td>Zip</td>\n",
       "      <td>MA</td>\n",
       "      <td>106.0</td>\n",
       "    </tr>\n",
       "    <tr>\n",
       "      <th>4</th>\n",
       "      <td>1/31/2013</td>\n",
       "      <td>58204</td>\n",
       "      <td>7690</td>\n",
       "      <td>1010</td>\n",
       "      <td>Zip</td>\n",
       "      <td>MA</td>\n",
       "      <td>24.0</td>\n",
       "    </tr>\n",
       "  </tbody>\n",
       "</table>\n",
       "</div>"
      ],
      "text/plain": [
       "        Date  RegionID SizeRank RegionName RegionType StateName  \\\n",
       "0  1/31/2013     58196     4429       1001        Zip        MA   \n",
       "1  1/31/2013     58197     3190       1002        Zip        MA   \n",
       "2  1/31/2013     58200     7512       1005        Zip        MA   \n",
       "3  1/31/2013     58201     5044       1007        Zip        MA   \n",
       "4  1/31/2013     58204     7690       1010        Zip        MA   \n",
       "\n",
       "   Monthly Listings  \n",
       "0              86.0  \n",
       "1              85.0  \n",
       "2              43.0  \n",
       "3             106.0  \n",
       "4              24.0  "
      ]
     },
     "execution_count": 19,
     "metadata": {},
     "output_type": "execute_result"
    }
   ],
   "source": [
    "# read csv file\n",
    "zillow_monthly_listings = pd.read_csv(zillow, low_memory=False)\n",
    "zillow_monthly_listings.head()"
   ]
  },
  {
   "cell_type": "code",
   "execution_count": 20,
   "metadata": {},
   "outputs": [
    {
     "data": {
      "text/plain": [
       "845100"
      ]
     },
     "execution_count": 20,
     "metadata": {},
     "output_type": "execute_result"
    }
   ],
   "source": [
    "len(zillow_monthly_listings['Date'])"
   ]
  }
 ],
 "metadata": {
  "kernelspec": {
   "display_name": "Python 3",
   "language": "python",
   "name": "python3"
  },
  "language_info": {
   "codemirror_mode": {
    "name": "ipython",
    "version": 3
   },
   "file_extension": ".py",
   "mimetype": "text/x-python",
   "name": "python",
   "nbconvert_exporter": "python",
   "pygments_lexer": "ipython3",
   "version": "3.7.0"
  }
 },
 "nbformat": 4,
 "nbformat_minor": 2
}
