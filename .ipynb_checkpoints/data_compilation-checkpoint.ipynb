{
 "cells": [
  {
   "cell_type": "code",
   "execution_count": 1,
   "metadata": {},
   "outputs": [],
   "source": [
    "import pandas as pd"
   ]
  },
  {
   "cell_type": "markdown",
   "metadata": {},
   "source": [
    "Unemployment Data by county (https://www.bls.gov/lau/#tables)"
   ]
  },
  {
   "cell_type": "code",
   "execution_count": 2,
   "metadata": {},
   "outputs": [],
   "source": [
    "list_ = []\n",
    "for x in range(2010,2019):\n",
    "    df = pd.read_fwf(f'https://www.bls.gov/lau/laucnty{str(x)[-2:]}.txt', skiprows = 5)\n",
    "    list_.append(df)\n",
    "all_data = pd.concat(list_)\n",
    "all_data = all_data.dropna()\n",
    "all_data = all_data.rename(columns = {\n",
    "    'Unnamed: 3' : 'county_name',\n",
    "    'Unnamed: 4' : 'year',\n",
    "    'Unnamed: 8' : 'unemployment_rate'\n",
    "})"
   ]
  },
  {
   "cell_type": "code",
   "execution_count": 3,
   "metadata": {},
   "outputs": [],
   "source": [
    "all_data.year = all_data.year.astype(int)\n",
    "unemployment_data = all_data[['year','county_name','unemployment_rate']]\n",
    "# unemployment_data[['county','state']] = unemployment_data.county_name.str.split(',', expand = True)\n",
    "# unemployment_data = unemployment_data[['year', 'county', 'state', 'unemployment_rate']]"
   ]
  },
  {
   "cell_type": "code",
   "execution_count": 5,
   "metadata": {},
   "outputs": [],
   "source": [
    "zip_county_key = pd.read_csv('zip_county_key.csv')\n",
    "zip_county_key = zip_county_key.rename(columns = {\n",
    "    'COUNTYNAME' : 'county',\n",
    "    'STATE' : 'state'\n",
    "})\n",
    "zip_county_key['county_name'] = zip_county_key['county'] + \", \" + zip_county_key['state']"
   ]
  },
  {
   "cell_type": "code",
   "execution_count": 6,
   "metadata": {},
   "outputs": [],
   "source": [
    "unemployment_data = pd.merge(unemployment_data,\n",
    "             zip_county_key,\n",
    "             how = 'left',\n",
    "             on = ['county_name'])\n",
    "unemployment_data = unemployment_data[['year', 'ZIP', 'unemployment_rate']]"
   ]
  },
  {
   "cell_type": "code",
   "execution_count": 7,
   "metadata": {},
   "outputs": [],
   "source": [
    "unemployment_data = unemployment_data.rename(columns = {'year': 'Year', 'ZIP_x' : 'ZIP'})"
   ]
  },
  {
   "cell_type": "code",
   "execution_count": 9,
   "metadata": {},
   "outputs": [],
   "source": [
    "unemployment_data.to_csv('unemployment_data.csv')"
   ]
  }
 ],
 "metadata": {
  "kernelspec": {
   "display_name": "base",
   "language": "python",
   "name": "base"
  },
  "language_info": {
   "codemirror_mode": {
    "name": "ipython",
    "version": 3
   },
   "file_extension": ".py",
   "mimetype": "text/x-python",
   "name": "python",
   "nbconvert_exporter": "python",
   "pygments_lexer": "ipython3",
   "version": "3.7.3"
  }
 },
 "nbformat": 4,
 "nbformat_minor": 2
}
