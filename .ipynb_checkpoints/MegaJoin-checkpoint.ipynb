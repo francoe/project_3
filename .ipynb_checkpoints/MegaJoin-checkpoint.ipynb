{
 "cells": [
  {
   "cell_type": "code",
   "execution_count": null,
   "metadata": {},
   "outputs": [],
   "source": [
    "#Import dependencies\n",
    "import pandas as pd\n",
    "from datetime import datetime\n"
   ]
  },
  {
   "cell_type": "code",
   "execution_count": null,
   "metadata": {},
   "outputs": [],
   "source": [
    "#pulls in the CSVs\n",
    "df1 = pd.read_csv('zillow_listings_sqft_rentals_by_year.csv')\n",
    "df2 = pd.read_csv('30 Year Mortgage.csv')\n",
    "df3 = pd.read_csv('unemployment_data.csv')"
   ]
  },
  {
   "cell_type": "code",
   "execution_count": null,
   "metadata": {},
   "outputs": [],
   "source": [
    "#Cleans Df2\n",
    "df2['DATE'] = [pd.to_datetime(x) for x in df2['DATE']]\n",
    "df2['Year'] = df2['DATE'].dt.year\n",
    "df2 = df2.dropna()\n",
    "df2['Year'] = [int(x) for x in df2['Year']]\n",
    "\n",
    "#Cleans Df1\n",
    "df1 = df1.drop(['City', 'State', 'Metro', 'CountyName', 'Listings', 'RentalValue'], axis=1)\n",
    "df1 = df1.rename(columns={'RegionID' : 'ZIP'})\n",
    "df1.dropna()\n",
    "\n",
    "#Cleans Df3\n",
    "df3 = df3.drop(['Unnamed: 0'], axis=1)"
   ]
  },
  {
   "cell_type": "code",
   "execution_count": null,
   "metadata": {},
   "outputs": [],
   "source": [
    "df2 = df2[['Year', 'MORTGAGE30US']]\n"
   ]
  },
  {
   "cell_type": "code",
   "execution_count": null,
   "metadata": {},
   "outputs": [],
   "source": [
    "df8 = pd.merge(df1, df2, how='left', on='Year')\n",
    "df9 = pd.merge(df8, df3, how='left', on=['Year', 'ZIP'])"
   ]
  },
  {
   "cell_type": "code",
   "execution_count": null,
   "metadata": {},
   "outputs": [],
   "source": [
    "# df9 = df9.dropna()"
   ]
  },
  {
   "cell_type": "code",
   "execution_count": null,
   "metadata": {},
   "outputs": [],
   "source": [
    "len(df9)"
   ]
  },
  {
   "cell_type": "code",
   "execution_count": null,
   "metadata": {},
   "outputs": [],
   "source": [
    "len(df9.dropna())"
   ]
  },
  {
   "cell_type": "code",
   "execution_count": null,
   "metadata": {},
   "outputs": [],
   "source": []
  }
 ],
 "metadata": {
  "kernelspec": {
   "display_name": "Python 3",
   "language": "python",
   "name": "python3"
  },
  "language_info": {
   "codemirror_mode": {
    "name": "ipython",
    "version": 3
   },
   "file_extension": ".py",
   "mimetype": "text/x-python",
   "name": "python",
   "nbconvert_exporter": "python",
   "pygments_lexer": "ipython3",
   "version": "3.7.0"
  }
 },
 "nbformat": 4,
 "nbformat_minor": 2
}
