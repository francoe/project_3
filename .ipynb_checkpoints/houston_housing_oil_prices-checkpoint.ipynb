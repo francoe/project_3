{
 "cells": [
  {
   "cell_type": "code",
   "execution_count": null,
   "metadata": {},
   "outputs": [],
   "source": [
    "%matplotlib inline\n",
    "\n",
    "# import dependencies\n",
    "import pandas as pd\n",
    "import numpy as np\n",
    "import matplotlib.pyplot as plt\n",
    "import os\n",
    "import datetime \n",
    "import seaborn as sns"
   ]
  },
  {
   "cell_type": "code",
   "execution_count": null,
   "metadata": {},
   "outputs": [],
   "source": [
    "# setup file path\n",
    "houston_housing_file =\"C:/Users/maque/Dropbox/Rice Data analytics classes/RICEHOU201811DATA2/Project 3/houston_housing_info.csv\""
   ]
  },
  {
   "cell_type": "code",
   "execution_count": null,
   "metadata": {},
   "outputs": [],
   "source": [
    "# read csv file\n",
    "houston_housing = pd.read_csv(houston_housing_file, low_memory=False)\n",
    "houston_housing.head(5)"
   ]
  },
  {
   "cell_type": "code",
   "execution_count": null,
   "metadata": {},
   "outputs": [],
   "source": [
    "# checking date to datetype\n",
    "houston_housing['Date'].dtype"
   ]
  },
  {
   "cell_type": "code",
   "execution_count": null,
   "metadata": {},
   "outputs": [],
   "source": [
    "pd.Timestamp.min"
   ]
  },
  {
   "cell_type": "code",
   "execution_count": null,
   "metadata": {},
   "outputs": [],
   "source": [
    "pd.Timestamp.max"
   ]
  },
  {
   "cell_type": "code",
   "execution_count": null,
   "metadata": {},
   "outputs": [],
   "source": [
    "# convert datatype of the date to datetime\n",
    "houston_housing['Date'] = pd.to_datetime(houston_housing['Date'])\n",
    "houston_housing.head()"
   ]
  },
  {
   "cell_type": "code",
   "execution_count": null,
   "metadata": {},
   "outputs": [],
   "source": [
    "# check to see null values present in offtake, drop if true\n",
    "houston_housing['Total Listings'].isnull().values.any()\n",
    "housing = houston_housing.dropna(how='any')\n",
    "housing.head()"
   ]
  },
  {
   "cell_type": "code",
   "execution_count": null,
   "metadata": {},
   "outputs": [],
   "source": [
    "# setup file path for Brent and WTI oil file\n",
    "wti = \"C:/Users/maque/Dropbox/Rice Data analytics classes/RICEHOU201811DATA2/Project 3/Oil_Prices.csv\""
   ]
  },
  {
   "cell_type": "code",
   "execution_count": null,
   "metadata": {},
   "outputs": [],
   "source": [
    "# read crude oil (Brent or WTI) csv\n",
    "# clipper_df = pd.read_csv(clipper_file, low_memory=False)\n",
    "# clipper_df.head(5)\n",
    "oil_prices = pd.read_csv(wti, low_memory=False)\n",
    "oil_prices.head()"
   ]
  },
  {
   "cell_type": "code",
   "execution_count": null,
   "metadata": {},
   "outputs": [],
   "source": [
    "# check to see null values present in offtake, drop if true\n",
    "oil_prices['Delta'].isnull().values.any()\n",
    "oil = oil_prices.dropna(how='any')\n",
    "oil.head()"
   ]
  },
  {
   "cell_type": "code",
   "execution_count": null,
   "metadata": {},
   "outputs": [],
   "source": [
    "# checking date to datetype\n",
    "oil['Date'].dtype"
   ]
  },
  {
   "cell_type": "code",
   "execution_count": null,
   "metadata": {},
   "outputs": [],
   "source": [
    "# convert datatype of the date to datetime\n",
    "oil['Date'] = pd.to_datetime(oil['Date'])\n",
    "oil.head()"
   ]
  },
  {
   "cell_type": "code",
   "execution_count": null,
   "metadata": {},
   "outputs": [],
   "source": [
    "# combine oil and housing dataframes together, merge on date\n",
    "housing_oil = pd.merge(housing, oil, on='Date', how ='inner')\n",
    "housing_oil.head()"
   ]
  },
  {
   "cell_type": "code",
   "execution_count": null,
   "metadata": {},
   "outputs": [],
   "source": [
    "# save as csv file\n",
    "housing_oil.to_csv('C:/Users/maque/Dropbox/Rice Data analytics classes/RICEHOU201811DATA2/Project 3/housing_oil.csv', encoding='utf-8', index=False)"
   ]
  }
 ],
 "metadata": {
  "kernelspec": {
   "display_name": "Python 3",
   "language": "python",
   "name": "python3"
  },
  "language_info": {
   "codemirror_mode": {
    "name": "ipython",
    "version": 3
   },
   "file_extension": ".py",
   "mimetype": "text/x-python",
   "name": "python",
   "nbconvert_exporter": "python",
   "pygments_lexer": "ipython3",
   "version": "3.7.0"
  }
 },
 "nbformat": 4,
 "nbformat_minor": 2
}
