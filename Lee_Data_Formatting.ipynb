{
 "cells": [
  {
   "cell_type": "code",
   "execution_count": null,
   "metadata": {},
   "outputs": [],
   "source": [
    "import pandas as pd"
   ]
  },
  {
   "cell_type": "code",
   "execution_count": null,
   "metadata": {},
   "outputs": [],
   "source": [
    "list_ = []\n",
    "for x in range(2010,2019):\n",
    "    #print(str(x)[-2:])\n",
    "    df = pd.read_fwf(f'https://www.bls.gov/lau/laucnty{str(x)[-2:]}.txt', skiprows = 5)\n",
    "    list_.append(df)\n",
    "all_data = pd.concat(list_)\n",
    "all_data = all_data.dropna()\n",
    "all_data = all_data.rename(columns = {\n",
    "    'Unnamed: 3' : 'County',\n",
    "    'Unnamed: 4' : 'Year',\n",
    "    'Unnamed: 8' : 'Unemployment_Rate'\n",
    "})"
   ]
  },
  {
   "cell_type": "code",
   "execution_count": null,
   "metadata": {},
   "outputs": [],
   "source": [
    "all_data.Year = all_data.Year.astype(int)\n",
    "all_data[['Year','County','Unemployment_Rate']]"
   ]
  },
  {
   "cell_type": "code",
   "execution_count": null,
   "metadata": {},
   "outputs": [],
   "source": [
    "df = pd.read_csv('https://www.irs.gov/pub/irs-soi/16zpallagi.csv')[['zipcode', 'agi_stub', 'N1']]"
   ]
  },
  {
   "cell_type": "code",
   "execution_count": null,
   "metadata": {},
   "outputs": [],
   "source": [
    "df['income'] = 0\n",
    "df['income_share'] = 0"
   ]
  },
  {
   "cell_type": "code",
   "execution_count": null,
   "metadata": {},
   "outputs": [],
   "source": [
    "for index, row in df.iterrows():\n",
    "    if row['agi_stub'] == 1:\n",
    "        row['income'] = 12500\n",
    "    elif row['agi_stub'] == 2:\n",
    "        row['income'] = 37500\n",
    "    elif row['agi_stub'] == 3:\n",
    "        row['income'] = 62500\n",
    "    elif row['agi_stub'] == 4:\n",
    "        row['income'] = 87500\n",
    "    elif row['agi_stub'] == 5:\n",
    "        row['income'] = 150000\n",
    "    elif row['agi_stub'] == 6:\n",
    "        row['income'] = 200000"
   ]
  },
  {
   "cell_type": "code",
   "execution_count": null,
   "metadata": {},
   "outputs": [],
   "source": [
    "for index, row in df.iterrows():\n",
    "    row['income_share'] = row['N1'] / df.N1[df.zipcode == row['zipcode']].sum()"
   ]
  },
  {
   "cell_type": "code",
   "execution_count": null,
   "metadata": {},
   "outputs": [],
   "source": [
    "zipcodes = pd.DataFrame(df.zipcode.unique())\n",
    "zipcodes = zipcodes.rename(columns = {\n",
    "    0 : 'Zipcode'\n",
    "})"
   ]
  },
  {
   "cell_type": "code",
   "execution_count": null,
   "metadata": {},
   "outputs": [],
   "source": [
    "zipcodes['Year'] = 0\n",
    "zipcodes['income'] = 0"
   ]
  },
  {
   "cell_type": "code",
   "execution_count": null,
   "metadata": {},
   "outputs": [],
   "source": [
    "for index, row in zipcodes.iterrows():\n",
    "    print(row['Zipcode'])\n",
    "    total = df.N1[df.zipcode == row['Zipcode']].sum()"
   ]
  },
  {
   "cell_type": "code",
   "execution_count": null,
   "metadata": {},
   "outputs": [],
   "source": [
    "df.N1[df.zipcode == 0].sum()"
   ]
  },
  {
   "cell_type": "code",
   "execution_count": null,
   "metadata": {},
   "outputs": [],
   "source": [
    "df.head(10)"
   ]
  },
  {
   "cell_type": "code",
   "execution_count": null,
   "metadata": {},
   "outputs": [],
   "source": [
    "df.N1[df.zipcode == 0][df.N1 == 2 ].sum()"
   ]
  },
  {
   "cell_type": "code",
   "execution_count": null,
   "metadata": {},
   "outputs": [],
   "source": [
    "df.N1[df.zipcode == 35004][df.agi_stub == 1]"
   ]
  },
  {
   "cell_type": "code",
   "execution_count": null,
   "metadata": {},
   "outputs": [],
   "source": [
    "def wavg(val_col_name, wt_col_name):\n",
    "    def inner(group):\n",
    "        return (group[val_col_name] * group[wt_col_name]).sum() / group[wt_col_name].sum()\n",
    "    inner.__name__ = 'wtd_avg'\n",
    "    return inner\n",
    "\n",
    "slick = df.groupby('zipcode').apply(wavg('income', 'N1'))"
   ]
  },
  {
   "cell_type": "code",
   "execution_count": null,
   "metadata": {},
   "outputs": [],
   "source": [
    "print(slick)"
   ]
  },
  {
   "cell_type": "code",
   "execution_count": null,
   "metadata": {},
   "outputs": [],
   "source": []
  }
 ],
 "metadata": {
  "kernelspec": {
   "display_name": "Python 3",
   "language": "python",
   "name": "python3"
  },
  "language_info": {
   "codemirror_mode": {
    "name": "ipython",
    "version": 3
   },
   "file_extension": ".py",
   "mimetype": "text/x-python",
   "name": "python",
   "nbconvert_exporter": "python",
   "pygments_lexer": "ipython3",
   "version": "3.6.4"
  }
 },
 "nbformat": 4,
 "nbformat_minor": 2
}
