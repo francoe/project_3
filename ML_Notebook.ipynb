{
 "cells": [
  {
   "cell_type": "code",
   "execution_count": null,
   "metadata": {},
   "outputs": [],
   "source": [
    "%matplotlib inline\n",
    "import matplotlib.pyplot as plt\n",
    "import numpy as np\n",
    "import sklearn\n",
    "import sklearn.datasets\n",
    "from numpy.random import seed\n",
    "seed(1)\n",
    "import pandas as pd\n"
   ]
  },
  {
   "cell_type": "code",
   "execution_count": null,
   "metadata": {},
   "outputs": [],
   "source": [
    "#import the csv\n",
    "df = pd.read_csv(\"complete_data_test1.csv\")\n",
    "# df1 = pd.read_excel('Zillow Data.xlsx')\n",
    "# df = df.drop(columns=['Median Price', 'Date'])\n",
    "\n",
    "# df['Sales'] = [float(x.replace(',', '')) for x in df['Sales']]\n",
    "# df['Dollar Volume'] = [float(x.replace(',', '')) for x in df['Dollar Volume']]\n",
    "# df['Average Price'] = [float(x.replace(',', '')) for x in df['Average Price']]\n",
    "# df['Total Listings'] = [float(x.replace(',', '')) for x in df['Total Listings']]\n",
    "\n",
    "\n",
    "# print(X.shape, y.shape)\n",
    "df1 = df[['SizeRank', 'unemployment_rate', 'MedianListPrice', 'MORTGAGE30US', 'Avg Income', 'ZIP']]\n",
    "df1\n",
    "\n",
    "X = df1.drop([\"MedianListPrice\", 'ZIP'], axis=1)\n",
    "y = df1[\"MedianListPrice\"]"
   ]
  },
  {
   "cell_type": "code",
   "execution_count": null,
   "metadata": {},
   "outputs": [],
   "source": [
    "# Use train_test_split to create training and testing data\n",
    "from sklearn.model_selection import train_test_split\n",
    "\n",
    "X_train, X_test, y_train, y_test = train_test_split(X, y, random_state=1)"
   ]
  },
  {
   "cell_type": "code",
   "execution_count": null,
   "metadata": {},
   "outputs": [],
   "source": [
    "X_train\n",
    "# y_train.shape"
   ]
  },
  {
   "cell_type": "code",
   "execution_count": null,
   "metadata": {},
   "outputs": [],
   "source": []
  },
  {
   "cell_type": "code",
   "execution_count": null,
   "metadata": {},
   "outputs": [],
   "source": []
  },
  {
   "cell_type": "code",
   "execution_count": null,
   "metadata": {},
   "outputs": [],
   "source": []
  },
  {
   "cell_type": "code",
   "execution_count": null,
   "metadata": {},
   "outputs": [],
   "source": [
    "# from sklearn.linear_model import Lasso, LinearRegression, Ridge\n",
    "from sklearn.ensemble import RandomForestRegressor\n",
    "from sklearn.multioutput import MultiOutputRegressor\n",
    "from sklearn.metrics import auc\n",
    "   \n",
    "#Sets up the random forest regression model \n",
    "max_depth = 30\n",
    "regr_multirf =RandomForestRegressor(n_estimators=500,\n",
    "                                      max_depth=max_depth,\n",
    "                                      verbose= 1,\n",
    "                                      random_state=0)\n",
    "#Fits to model\n",
    "regr_multirf.fit(X_train, y_train)\n",
    "\n",
    "# Predict on new data\n",
    "y_multirf = regr_multirf.predict(X_test)\n",
    "\n",
    "# How good are the features\n",
    "print(regr_multirf.feature_importances_)\n",
    "print(regr_multirf.score(X_test, y_test))\n",
    "# print(sklearn.metrics.auc(X_train, y_train))"
   ]
  },
  {
   "cell_type": "code",
   "execution_count": null,
   "metadata": {},
   "outputs": [],
   "source": [
    "y = regr_multirf.predict(X_train)"
   ]
  },
  {
   "cell_type": "code",
   "execution_count": null,
   "metadata": {},
   "outputs": [],
   "source": [
    "X_train['Prediction'] = y\n",
    "X_train['Actual'] = y_train\n",
    "X_train.to_csv('Model_Output.csv')"
   ]
  },
  {
   "cell_type": "code",
   "execution_count": null,
   "metadata": {},
   "outputs": [],
   "source": [
    "df8 = X_train.merge(df1, how='inner',right_index=True, left_index=True)\n",
    "df8 = df8[['SizeRank_x', 'unemployment_rate_x', 'MORTGAGE30US_x', 'Avg Income_x', 'Prediction', 'Actual', 'ZIP']]\n",
    "df8.to_csv('Model_Output.csv')"
   ]
  },
  {
   "cell_type": "code",
   "execution_count": null,
   "metadata": {},
   "outputs": [],
   "source": [
    "df8"
   ]
  },
  {
   "cell_type": "code",
   "execution_count": null,
   "metadata": {},
   "outputs": [],
   "source": []
  }
 ],
 "metadata": {
  "kernelspec": {
   "display_name": "Python 3",
   "language": "python",
   "name": "python3"
  },
  "language_info": {
   "codemirror_mode": {
    "name": "ipython",
    "version": 3
   },
   "file_extension": ".py",
   "mimetype": "text/x-python",
   "name": "python",
   "nbconvert_exporter": "python",
   "pygments_lexer": "ipython3",
   "version": "3.7.0"
  }
 },
 "nbformat": 4,
 "nbformat_minor": 2
}
